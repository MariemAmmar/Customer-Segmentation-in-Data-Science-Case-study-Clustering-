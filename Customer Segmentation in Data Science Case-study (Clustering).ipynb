{
 "cells": [
  {
   "cell_type": "markdown",
   "id": "bee01cbd",
   "metadata": {},
   "source": [
    "# Data Exploration : Cutomer Segmentatiion (clustering)"
   ]
  },
  {
   "cell_type": "markdown",
   "id": "53577b0e",
   "metadata": {},
   "source": [
    "This code performs customer segmentation using K-means clustering. Here are some comments:\n",
    "\n",
    "* The code imports the necessary libraries, loads the data, and performs some basic data exploration to understand the data. It also creates a scatter plot to visualize the relationship between satisfaction and loyalty.\n",
    "\n",
    "* The code then creates a KMeans object and fits the data to it to perform clustering. It also creates a new dataframe with the predicted clusters and plots it to visualize the clustering result.\n",
    "\n",
    "* The code then scales the input data using the preprocessing module and performs K-means clustering with different numbers of clusters to find the optimal number of clusters based on the Within-Cluster Sum of Squares (WCSS) metric. It also plots the WCSS for each number of clusters to visualize the elbow point.\n",
    "\n",
    "Finally, the code performs clustering again with the optimal number of clusters and plots the new clusters."
   ]
  },
  {
   "cell_type": "code",
   "execution_count": 40,
   "id": "2b67135f",
   "metadata": {},
   "outputs": [],
   "source": [
    "# generalization and summarization \n",
    "import pandas as pd\n",
    "import numpy as np\n",
    "import matplotlib.pyplot as plt\n",
    "import seaborn as sns \n",
    "#set the styles to seaborn\n",
    "sns.set()\n",
    "\n",
    "#import the KMeans module so we can perforrm k-means clustering with sklearn\n",
    "from sklearn.cluster import KMeans "
   ]
  },
  {
   "cell_type": "code",
   "execution_count": 41,
   "id": "ebbe279a",
   "metadata": {},
   "outputs": [
    {
     "data": {
      "text/html": [
       "<div>\n",
       "<style scoped>\n",
       "    .dataframe tbody tr th:only-of-type {\n",
       "        vertical-align: middle;\n",
       "    }\n",
       "\n",
       "    .dataframe tbody tr th {\n",
       "        vertical-align: top;\n",
       "    }\n",
       "\n",
       "    .dataframe thead th {\n",
       "        text-align: right;\n",
       "    }\n",
       "</style>\n",
       "<table border=\"1\" class=\"dataframe\">\n",
       "  <thead>\n",
       "    <tr style=\"text-align: right;\">\n",
       "      <th></th>\n",
       "      <th>Satisfaction</th>\n",
       "      <th>Loyalty</th>\n",
       "    </tr>\n",
       "  </thead>\n",
       "  <tbody>\n",
       "    <tr>\n",
       "      <th>0</th>\n",
       "      <td>4</td>\n",
       "      <td>-1.33</td>\n",
       "    </tr>\n",
       "    <tr>\n",
       "      <th>1</th>\n",
       "      <td>6</td>\n",
       "      <td>-0.28</td>\n",
       "    </tr>\n",
       "    <tr>\n",
       "      <th>2</th>\n",
       "      <td>5</td>\n",
       "      <td>-0.99</td>\n",
       "    </tr>\n",
       "    <tr>\n",
       "      <th>3</th>\n",
       "      <td>7</td>\n",
       "      <td>-0.29</td>\n",
       "    </tr>\n",
       "    <tr>\n",
       "      <th>4</th>\n",
       "      <td>4</td>\n",
       "      <td>1.06</td>\n",
       "    </tr>\n",
       "  </tbody>\n",
       "</table>\n",
       "</div>"
      ],
      "text/plain": [
       "   Satisfaction  Loyalty\n",
       "0             4    -1.33\n",
       "1             6    -0.28\n",
       "2             5    -0.99\n",
       "3             7    -0.29\n",
       "4             4     1.06"
      ]
     },
     "execution_count": 41,
     "metadata": {},
     "output_type": "execute_result"
    }
   ],
   "source": [
    "#Load the data & check what's inside \n",
    "df=pd.read_csv(r\"C:\\Users\\Asus\\Desktop\\Portfolio Projects\\Python Projects\\Marketing_segmentation.csv\")\n",
    "df.columns = df.columns.str.strip()\n",
    "df.head()"
   ]
  },
  {
   "cell_type": "code",
   "execution_count": 42,
   "id": "2590533f",
   "metadata": {},
   "outputs": [
    {
     "name": "stdout",
     "output_type": "stream",
     "text": [
      "<class 'pandas.core.frame.DataFrame'>\n",
      "RangeIndex: 30 entries, 0 to 29\n",
      "Data columns (total 2 columns):\n",
      " #   Column        Non-Null Count  Dtype  \n",
      "---  ------        --------------  -----  \n",
      " 0   Satisfaction  30 non-null     int64  \n",
      " 1   Loyalty       30 non-null     float64\n",
      "dtypes: float64(1), int64(1)\n",
      "memory usage: 608.0 bytes\n"
     ]
    }
   ],
   "source": [
    "#Let's inspect your dataset \n",
    "df.info()"
   ]
  },
  {
   "cell_type": "code",
   "execution_count": 43,
   "id": "d9dc92be",
   "metadata": {},
   "outputs": [
    {
     "data": {
      "text/html": [
       "<div>\n",
       "<style scoped>\n",
       "    .dataframe tbody tr th:only-of-type {\n",
       "        vertical-align: middle;\n",
       "    }\n",
       "\n",
       "    .dataframe tbody tr th {\n",
       "        vertical-align: top;\n",
       "    }\n",
       "\n",
       "    .dataframe thead th {\n",
       "        text-align: right;\n",
       "    }\n",
       "</style>\n",
       "<table border=\"1\" class=\"dataframe\">\n",
       "  <thead>\n",
       "    <tr style=\"text-align: right;\">\n",
       "      <th></th>\n",
       "      <th>Satisfaction</th>\n",
       "      <th>Loyalty</th>\n",
       "    </tr>\n",
       "  </thead>\n",
       "  <tbody>\n",
       "    <tr>\n",
       "      <th>count</th>\n",
       "      <td>30.000000</td>\n",
       "      <td>30.000000</td>\n",
       "    </tr>\n",
       "    <tr>\n",
       "      <th>mean</th>\n",
       "      <td>6.400000</td>\n",
       "      <td>0.001000</td>\n",
       "    </tr>\n",
       "    <tr>\n",
       "      <th>std</th>\n",
       "      <td>2.620871</td>\n",
       "      <td>1.016476</td>\n",
       "    </tr>\n",
       "    <tr>\n",
       "      <th>min</th>\n",
       "      <td>1.000000</td>\n",
       "      <td>-1.690000</td>\n",
       "    </tr>\n",
       "    <tr>\n",
       "      <th>25%</th>\n",
       "      <td>4.250000</td>\n",
       "      <td>-0.967500</td>\n",
       "    </tr>\n",
       "    <tr>\n",
       "      <th>50%</th>\n",
       "      <td>7.000000</td>\n",
       "      <td>0.150000</td>\n",
       "    </tr>\n",
       "    <tr>\n",
       "      <th>75%</th>\n",
       "      <td>8.750000</td>\n",
       "      <td>0.947500</td>\n",
       "    </tr>\n",
       "    <tr>\n",
       "      <th>max</th>\n",
       "      <td>10.000000</td>\n",
       "      <td>1.380000</td>\n",
       "    </tr>\n",
       "  </tbody>\n",
       "</table>\n",
       "</div>"
      ],
      "text/plain": [
       "       Satisfaction    Loyalty\n",
       "count     30.000000  30.000000\n",
       "mean       6.400000   0.001000\n",
       "std        2.620871   1.016476\n",
       "min        1.000000  -1.690000\n",
       "25%        4.250000  -0.967500\n",
       "50%        7.000000   0.150000\n",
       "75%        8.750000   0.947500\n",
       "max       10.000000   1.380000"
      ]
     },
     "execution_count": 43,
     "metadata": {},
     "output_type": "execute_result"
    }
   ],
   "source": [
    "# get a summary statistics for ur dataset\n",
    "df.describe()"
   ]
  },
  {
   "cell_type": "code",
   "execution_count": 44,
   "id": "56d28f3f",
   "metadata": {},
   "outputs": [
    {
     "data": {
      "text/plain": [
       "Text(0, 0.5, 'Loyalty')"
      ]
     },
     "execution_count": 44,
     "metadata": {},
     "output_type": "execute_result"
    },
    {
     "data": {
      "image/png": "[encoded data removed]",
      "text/plain": [
       "<Figure size 432x288 with 1 Axes>"
      ]
     },
     "metadata": {},
     "output_type": "display_data"
    }
   ],
   "source": [
    "# we are creating a scatter plot of the two variables\n",
    "plt.scatter(df['Satisfaction'], df['Loyalty'])\n",
    "#Name your axes:\n",
    "plt.xlabel('Satisfaction')\n",
    "plt.ylabel('Loyalty')"
   ]
  },
  {
   "cell_type": "code",
   "execution_count": 45,
   "id": "48af60c3",
   "metadata": {},
   "outputs": [
    {
     "data": {
      "text/plain": [
       "KMeans(n_clusters=2)"
      ]
     },
     "execution_count": 45,
     "metadata": {},
     "output_type": "execute_result"
    }
   ],
   "source": [
    "#Select both features by creating a copy of the dtaa variable\n",
    "x=df.copy()\n",
    "\n",
    "\n",
    "# create an object (which we would call Kmeans)\n",
    "# the number in the brackets is k, or the number of clusters we are aiming for\n",
    "Kmeans = KMeans(2)\n",
    "\n",
    "#Fit the data\n",
    "Kmeans.fit(x)\n",
    "# to apply clustering"
   ]
  },
  {
   "cell_type": "code",
   "execution_count": 47,
   "id": "b995f74c",
   "metadata": {},
   "outputs": [],
   "source": [
    "# create a copy of the input data\n",
    "clusters = x.copy()\n",
    "#take note of the predicted cluseters\n",
    "clusters['cluster_pred'] = Kmeans.fit_predict(x)"
   ]
  },
  {
   "cell_type": "code",
   "execution_count": 48,
   "id": "9a01bf66",
   "metadata": {},
   "outputs": [
    {
     "data": {
      "text/plain": [
       "Text(0, 0.5, 'Loyalty')"
      ]
     },
     "execution_count": 48,
     "metadata": {},
     "output_type": "execute_result"
    },
    {
     "data": {
      "image/png": "[encoded data removed]",
      "text/plain": [
       "<Figure size 432x288 with 1 Axes>"
      ]
     },
     "metadata": {},
     "output_type": "display_data"
    }
   ],
   "source": [
    "# plot the data using the longitude and the latitude\n",
    "plt.scatter(clusters['Satisfaction'], clusters['Loyalty'], c=clusters['cluster_pred'])\n",
    "plt.xlabel('Satisfaction')\n",
    "plt.ylabel('Loyalty')"
   ]
  },
  {
   "cell_type": "code",
   "execution_count": 49,
   "id": "63d28420",
   "metadata": {},
   "outputs": [
    {
     "data": {
      "text/plain": [
       "array([[-0.93138063, -1.3318111 ],\n",
       "       [-0.15523011, -0.28117124],\n",
       "       [-0.54330537, -0.99160391],\n",
       "       [ 0.23284516, -0.29117733],\n",
       "       [-0.93138063,  1.05964534],\n",
       "       [-2.09560642, -1.6620122 ],\n",
       "       [ 1.39707095, -0.97159172],\n",
       "       [ 0.62092042, -0.32119561],\n",
       "       [ 0.62092042,  1.01962097],\n",
       "       [ 0.62092042,  0.67941378],\n",
       "       [ 1.39707095, -0.3412078 ],\n",
       "       [-0.54330537,  0.38923705],\n",
       "       [-0.54330537, -1.69203048],\n",
       "       [-1.70753116,  0.66940768],\n",
       "       [ 0.23284516,  0.26916393],\n",
       "       [ 1.00899568,  1.35982816],\n",
       "       [ 0.62092042,  1.37984035],\n",
       "       [ 0.23284516,  1.35982816],\n",
       "       [ 0.23284516, -0.3412078 ],\n",
       "       [ 1.00899568,  0.66940768],\n",
       "       [ 1.39707095,  1.17971847],\n",
       "       [-1.31945589, -1.69203048],\n",
       "       [-0.93138063,  1.03963316],\n",
       "       [-1.31945589, -0.96158562],\n",
       "       [-0.15523011,  1.02962706],\n",
       "       [ 1.00899568, -0.99160391],\n",
       "       [ 1.39707095,  0.36922486],\n",
       "       [ 1.00899568,  0.02901767],\n",
       "       [-1.31945589, -1.36182938],\n",
       "       [-0.54330537,  0.72944425]])"
      ]
     },
     "execution_count": 49,
     "metadata": {},
     "output_type": "execute_result"
    }
   ],
   "source": [
    "#import a library which can do that easily\n",
    "from sklearn import preprocessing\n",
    "\n",
    "\n",
    "# scale the inputs\n",
    "# preprocessing.scale scales each variable(column in x) with respect to itself \n",
    "#the new result is an array \n",
    "x_scaled = preprocessing.scale(x)\n",
    "x_scaled"
   ]
  },
  {
   "cell_type": "code",
   "execution_count": 51,
   "id": "ad2c1b1a",
   "metadata": {},
   "outputs": [
    {
     "data": {
      "text/plain": [
       "[60.0,\n",
       " 29.818973034723147,\n",
       " 17.913349527387965,\n",
       " 10.24718180592842,\n",
       " 7.792695153937187,\n",
       " 6.54983679159933,\n",
       " 5.348079410290979,\n",
       " 4.395247193896115,\n",
       " 3.779988616205267]"
      ]
     },
     "execution_count": 51,
     "metadata": {},
     "output_type": "execute_result"
    }
   ],
   "source": [
    "#Create an empty list\n",
    "wcss = []\n",
    "#create all possible cluster solutions with a loop\n",
    "# we have chosen to get solutions from 1 to 9 clusters\n",
    "for i in range(1,10):\n",
    "    #cluster solution with i clusters\n",
    "    Kmeans =KMeans(i)\n",
    "    #Fit the standardized data\n",
    "    Kmeans.fit(x_scaled)\n",
    "    #append the WCSS for the iteration\n",
    "    wcss.append(Kmeans.inertia_)\n",
    "#Check the result\n",
    "wcss"
   ]
  },
  {
   "cell_type": "code",
   "execution_count": 54,
   "id": "a387f865",
   "metadata": {},
   "outputs": [
    {
     "data": {
      "text/plain": [
       "Text(0, 0.5, 'WCSS')"
      ]
     },
     "execution_count": 54,
     "metadata": {},
     "output_type": "execute_result"
    },
    {
     "data": {
      "image/png": "[encoded data removed]",
      "text/plain": [
       "<Figure size 432x288 with 1 Axes>"
      ]
     },
     "metadata": {},
     "output_type": "display_data"
    }
   ],
   "source": [
    "#plot the number of clusters vs WCSS\n",
    "plt.plot(range(1,10),wcss)\n",
    "\n",
    "#Name your axes\n",
    "plt.xlabel('Number of clusters')\n",
    "plt.ylabel('WCSS')"
   ]
  },
  {
   "cell_type": "code",
   "execution_count": 55,
   "id": "18d47e87",
   "metadata": {},
   "outputs": [],
   "source": [
    "#Fiddle with k (the number of clusters)\n",
    "kmeans_new = KMeans (4)\n",
    "\n",
    "#Fit the data \n",
    "kmeans_new.fit(x_scaled)\n",
    "\n",
    "#create a new data frame with the predicted clusters\n",
    "clusters_new = x.copy()\n",
    "clusters_new['cluster_pred'] = kmeans_new.fit_predict(x_scaled)"
   ]
  },
  {
   "cell_type": "code",
   "execution_count": 59,
   "id": "bd625c8d",
   "metadata": {},
   "outputs": [
    {
     "data": {
      "text/html": [
       "<div>\n",
       "<style scoped>\n",
       "    .dataframe tbody tr th:only-of-type {\n",
       "        vertical-align: middle;\n",
       "    }\n",
       "\n",
       "    .dataframe tbody tr th {\n",
       "        vertical-align: top;\n",
       "    }\n",
       "\n",
       "    .dataframe thead th {\n",
       "        text-align: right;\n",
       "    }\n",
       "</style>\n",
       "<table border=\"1\" class=\"dataframe\">\n",
       "  <thead>\n",
       "    <tr style=\"text-align: right;\">\n",
       "      <th></th>\n",
       "      <th>Satisfaction</th>\n",
       "      <th>Loyalty</th>\n",
       "      <th>cluster_pred</th>\n",
       "    </tr>\n",
       "  </thead>\n",
       "  <tbody>\n",
       "    <tr>\n",
       "      <th>0</th>\n",
       "      <td>4</td>\n",
       "      <td>-1.33</td>\n",
       "      <td>0</td>\n",
       "    </tr>\n",
       "    <tr>\n",
       "      <th>1</th>\n",
       "      <td>6</td>\n",
       "      <td>-0.28</td>\n",
       "      <td>3</td>\n",
       "    </tr>\n",
       "    <tr>\n",
       "      <th>2</th>\n",
       "      <td>5</td>\n",
       "      <td>-0.99</td>\n",
       "      <td>0</td>\n",
       "    </tr>\n",
       "    <tr>\n",
       "      <th>3</th>\n",
       "      <td>7</td>\n",
       "      <td>-0.29</td>\n",
       "      <td>3</td>\n",
       "    </tr>\n",
       "    <tr>\n",
       "      <th>4</th>\n",
       "      <td>4</td>\n",
       "      <td>1.06</td>\n",
       "      <td>2</td>\n",
       "    </tr>\n",
       "    <tr>\n",
       "      <th>5</th>\n",
       "      <td>1</td>\n",
       "      <td>-1.66</td>\n",
       "      <td>0</td>\n",
       "    </tr>\n",
       "    <tr>\n",
       "      <th>6</th>\n",
       "      <td>10</td>\n",
       "      <td>-0.97</td>\n",
       "      <td>3</td>\n",
       "    </tr>\n",
       "    <tr>\n",
       "      <th>7</th>\n",
       "      <td>8</td>\n",
       "      <td>-0.32</td>\n",
       "      <td>3</td>\n",
       "    </tr>\n",
       "    <tr>\n",
       "      <th>8</th>\n",
       "      <td>8</td>\n",
       "      <td>1.02</td>\n",
       "      <td>1</td>\n",
       "    </tr>\n",
       "    <tr>\n",
       "      <th>9</th>\n",
       "      <td>8</td>\n",
       "      <td>0.68</td>\n",
       "      <td>1</td>\n",
       "    </tr>\n",
       "    <tr>\n",
       "      <th>10</th>\n",
       "      <td>10</td>\n",
       "      <td>-0.34</td>\n",
       "      <td>3</td>\n",
       "    </tr>\n",
       "    <tr>\n",
       "      <th>11</th>\n",
       "      <td>5</td>\n",
       "      <td>0.39</td>\n",
       "      <td>2</td>\n",
       "    </tr>\n",
       "    <tr>\n",
       "      <th>12</th>\n",
       "      <td>5</td>\n",
       "      <td>-1.69</td>\n",
       "      <td>0</td>\n",
       "    </tr>\n",
       "    <tr>\n",
       "      <th>13</th>\n",
       "      <td>2</td>\n",
       "      <td>0.67</td>\n",
       "      <td>2</td>\n",
       "    </tr>\n",
       "    <tr>\n",
       "      <th>14</th>\n",
       "      <td>7</td>\n",
       "      <td>0.27</td>\n",
       "      <td>3</td>\n",
       "    </tr>\n",
       "    <tr>\n",
       "      <th>15</th>\n",
       "      <td>9</td>\n",
       "      <td>1.36</td>\n",
       "      <td>1</td>\n",
       "    </tr>\n",
       "    <tr>\n",
       "      <th>16</th>\n",
       "      <td>8</td>\n",
       "      <td>1.38</td>\n",
       "      <td>1</td>\n",
       "    </tr>\n",
       "    <tr>\n",
       "      <th>17</th>\n",
       "      <td>7</td>\n",
       "      <td>1.36</td>\n",
       "      <td>1</td>\n",
       "    </tr>\n",
       "    <tr>\n",
       "      <th>18</th>\n",
       "      <td>7</td>\n",
       "      <td>-0.34</td>\n",
       "      <td>3</td>\n",
       "    </tr>\n",
       "    <tr>\n",
       "      <th>19</th>\n",
       "      <td>9</td>\n",
       "      <td>0.67</td>\n",
       "      <td>1</td>\n",
       "    </tr>\n",
       "    <tr>\n",
       "      <th>20</th>\n",
       "      <td>10</td>\n",
       "      <td>1.18</td>\n",
       "      <td>1</td>\n",
       "    </tr>\n",
       "    <tr>\n",
       "      <th>21</th>\n",
       "      <td>3</td>\n",
       "      <td>-1.69</td>\n",
       "      <td>0</td>\n",
       "    </tr>\n",
       "    <tr>\n",
       "      <th>22</th>\n",
       "      <td>4</td>\n",
       "      <td>1.04</td>\n",
       "      <td>2</td>\n",
       "    </tr>\n",
       "    <tr>\n",
       "      <th>23</th>\n",
       "      <td>3</td>\n",
       "      <td>-0.96</td>\n",
       "      <td>0</td>\n",
       "    </tr>\n",
       "    <tr>\n",
       "      <th>24</th>\n",
       "      <td>6</td>\n",
       "      <td>1.03</td>\n",
       "      <td>2</td>\n",
       "    </tr>\n",
       "    <tr>\n",
       "      <th>25</th>\n",
       "      <td>9</td>\n",
       "      <td>-0.99</td>\n",
       "      <td>3</td>\n",
       "    </tr>\n",
       "    <tr>\n",
       "      <th>26</th>\n",
       "      <td>10</td>\n",
       "      <td>0.37</td>\n",
       "      <td>1</td>\n",
       "    </tr>\n",
       "    <tr>\n",
       "      <th>27</th>\n",
       "      <td>9</td>\n",
       "      <td>0.03</td>\n",
       "      <td>3</td>\n",
       "    </tr>\n",
       "    <tr>\n",
       "      <th>28</th>\n",
       "      <td>3</td>\n",
       "      <td>-1.36</td>\n",
       "      <td>0</td>\n",
       "    </tr>\n",
       "    <tr>\n",
       "      <th>29</th>\n",
       "      <td>5</td>\n",
       "      <td>0.73</td>\n",
       "      <td>2</td>\n",
       "    </tr>\n",
       "  </tbody>\n",
       "</table>\n",
       "</div>"
      ],
      "text/plain": [
       "    Satisfaction  Loyalty  cluster_pred\n",
       "0              4    -1.33             0\n",
       "1              6    -0.28             3\n",
       "2              5    -0.99             0\n",
       "3              7    -0.29             3\n",
       "4              4     1.06             2\n",
       "5              1    -1.66             0\n",
       "6             10    -0.97             3\n",
       "7              8    -0.32             3\n",
       "8              8     1.02             1\n",
       "9              8     0.68             1\n",
       "10            10    -0.34             3\n",
       "11             5     0.39             2\n",
       "12             5    -1.69             0\n",
       "13             2     0.67             2\n",
       "14             7     0.27             3\n",
       "15             9     1.36             1\n",
       "16             8     1.38             1\n",
       "17             7     1.36             1\n",
       "18             7    -0.34             3\n",
       "19             9     0.67             1\n",
       "20            10     1.18             1\n",
       "21             3    -1.69             0\n",
       "22             4     1.04             2\n",
       "23             3    -0.96             0\n",
       "24             6     1.03             2\n",
       "25             9    -0.99             3\n",
       "26            10     0.37             1\n",
       "27             9     0.03             3\n",
       "28             3    -1.36             0\n",
       "29             5     0.73             2"
      ]
     },
     "execution_count": 59,
     "metadata": {},
     "output_type": "execute_result"
    }
   ],
   "source": [
    "#Check if everything seems right\n",
    "clusters_new"
   ]
  },
  {
   "cell_type": "code",
   "execution_count": 63,
   "id": "452356c4",
   "metadata": {},
   "outputs": [
    {
     "data": {
      "image/png": "[encoded data removed]",
      "text/plain": [
       "<Figure size 432x288 with 1 Axes>"
      ]
     },
     "metadata": {},
     "output_type": "display_data"
    }
   ],
   "source": [
    "#Plot\n",
    "plt.scatter(clusters_new['Satisfaction'], clusters_new['Loyalty'], c=clusters_new['cluster_pred'], cmap='rainbow')\n",
    "plt.xlabel('Satisfaction')\n",
    "plt.ylabel('Loyalty')\n",
    "plt.title('Clustered Data')\n",
    "plt.show()\n",
    "# to make classes of data points"
   ]
  },
  {
   "cell_type": "markdown",
   "id": "42d68459",
   "metadata": {},
   "source": [
    "To evaluate the clustering result using the silhouette score, we can use the sklearn.metrics.silhouette_score function."
   ]
  },
  {
   "cell_type": "code",
   "execution_count": 64,
   "id": "ab175e16",
   "metadata": {},
   "outputs": [
    {
     "name": "stdout",
     "output_type": "stream",
     "text": [
      "The average silhouette score is : 0.47827714654871856\n"
     ]
    }
   ],
   "source": [
    "from sklearn.metrics import silhouette_score\n",
    "\n",
    "# calculate the silhouette score for the clustering result\n",
    "silhouette_avg = silhouette_score(x_scaled, kmeans_new.labels_)\n",
    "\n",
    "# print the silhouette score\n",
    "print(\"The average silhouette score is :\", silhouette_avg)\n"
   ]
  },
  {
   "cell_type": "markdown",
   "id": "3cda7e74",
   "metadata": {},
   "source": [
    "To perform feature selection or dimensionality reduction before clustering, we can use techniques such as Principal Component Analysis (PCA) or feature selection algorithms from the sklearn.feature_selection module to reduce the number of features:\n",
    "\n"
   ]
  },
  {
   "cell_type": "code",
   "execution_count": 65,
   "id": "e43540e7",
   "metadata": {},
   "outputs": [
    {
     "data": {
      "image/png": "[encoded data removed]",
      "text/plain": [
       "<Figure size 432x288 with 1 Axes>"
      ]
     },
     "metadata": {},
     "output_type": "display_data"
    }
   ],
   "source": [
    "from sklearn.decomposition import PCA\n",
    "\n",
    "# create a PCA object and fit it to the scaled data\n",
    "pca = PCA(n_components=2)\n",
    "x_pca = pca.fit_transform(x_scaled)\n",
    "\n",
    "# perform clustering on the PCA-transformed data\n",
    "kmeans_pca = KMeans(n_clusters=4)\n",
    "kmeans_pca.fit(x_pca)\n",
    "\n",
    "# create a new dataframe with the predicted clusters\n",
    "clusters_pca = pd.DataFrame({'Satisfaction': x_pca[:, 0], 'Loyalty': x_pca[:, 1], 'cluster_pred': kmeans_pca.labels_})\n",
    "\n",
    "# plot the clustered data\n",
    "plt.scatter(clusters_pca['Satisfaction'], clusters_pca['Loyalty'], c=clusters_pca['cluster_pred'], cmap='rainbow')\n",
    "plt.xlabel('Satisfaction (PCA)')\n",
    "plt.ylabel('Loyalty (PCA)')\n",
    "plt.title('Clustered Data (PCA)')\n",
    "plt.show()\n"
   ]
  },
  {
   "cell_type": "markdown",
   "id": "d6afe5d8",
   "metadata": {},
   "source": [
    "To try different clustering algorithms and compare their results with K-means, we can use algorithms such as Agglomerative Clustering or DBSCAN. \n",
    "\n"
   ]
  },
  {
   "cell_type": "code",
   "execution_count": 66,
   "id": "bd4d37a9",
   "metadata": {},
   "outputs": [
    {
     "data": {
      "image/png": "[encoded data removed]",
      "text/plain": [
       "<Figure size 432x288 with 1 Axes>"
      ]
     },
     "metadata": {},
     "output_type": "display_data"
    }
   ],
   "source": [
    "from sklearn.cluster import AgglomerativeClustering\n",
    "\n",
    "# perform agglomerative clustering on the scaled data\n",
    "agg = AgglomerativeClustering(n_clusters=4)\n",
    "agg.fit(x_scaled)\n",
    "\n",
    "# create a new dataframe with the predicted clusters\n",
    "clusters_agg = x.copy()\n",
    "clusters_agg['cluster_pred'] = agg.labels_\n",
    "\n",
    "# plot the clustered data\n",
    "plt.scatter(clusters_agg['Satisfaction'], clusters_agg['Loyalty'], c=clusters_agg['cluster_pred'], cmap='rainbow')\n",
    "plt.xlabel('Satisfaction')\n",
    "plt.ylabel('Loyalty')\n",
    "plt.title('Clustered Data (Agglomerative Clustering)')\n",
    "plt.show()\n"
   ]
  },
  {
   "cell_type": "code",
   "execution_count": null,
   "id": "7366919e",
   "metadata": {},
   "outputs": [],
   "source": []
  }
 ],
 "metadata": {
  "kernelspec": {
   "display_name": "Python 3 (ipykernel)",
   "language": "python",
   "name": "python3"
  },
  "language_info": {
   "codemirror_mode": {
    "name": "ipython",
    "version": 3
   },
   "file_extension": ".py",
   "mimetype": "text/x-python",
   "name": "python",
   "nbconvert_exporter": "python",
   "pygments_lexer": "ipython3",
   "version": "3.8.0"
  }
 },
 "nbformat": 4,
 "nbformat_minor": 5
}
